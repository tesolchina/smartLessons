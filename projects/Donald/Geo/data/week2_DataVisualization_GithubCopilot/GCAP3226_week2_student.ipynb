{
 "cells": [
  {
   "cell_type": "markdown",
   "metadata": {},
   "source": [
    "# Data Visualization for Municipal Solid Waste Charging Scheme in Hong Kong\n",
    "\n",
    "This Jupyter Notebook guides you through data visualization techniques using Python, focusing on the Municipal Solid Waste Charging Scheme dataset in Hong Kong. This aligns with the *Empowering Citizens through Data: Participatory Policy Analysis for Hong Kong* course, supporting SDG 12 (Responsible Consumption and Production). You will learn to:\n",
    "1. Load and examine a dataset.\n",
    "2. Understand its structure and variables.\n",
    "3. Visualize categorical data with frequency tables, bar charts, and pie charts.\n",
    "4. Analyze continuous data with summary statistics, box-whisker plots, and histograms.\n",
    "5. Explore relationships using scatter plots.\n",
    "6. Save visualizations to a directory.\n",
    "\n",
    "Use GitHub Copilot to assist by writing prompts (e.g., comments like `# Write code to...`) to generate Python code. Libraries required: `pandas`, `matplotlib`, `seaborn`.\n",
    "\n",
    "## Section 0: Import Relevant Libraries\n",
    "\n",
    "Before we start, let’s make sure your computer has the tools we need, called libraries (`pandas`, `matplotlib`, and `seaborn`). If you see an error when running the code below, follow these simple steps to add them:\n",
    "\n",
    "- On **Windows**: Click the Windows icon to open the Start menu, type “Command Prompt,” and click it to open.\n",
    "- On **macOS**: Click the magnifying glass (top right) to open Spotlight Search, type “Terminal,” and click it to open.\n",
    "\n",
    "In the window that opens, type this command and press Enter: `pip install pandas matplotlib seaborn`. If it shows \"command not found: pip\", try `python3 -m pip install pandas matplotlib seaborn`.\n",
    "\n",
    "- If you get a permission error, add `--user` at the end, like `pip install pandas matplotlib seaborn --user`. (If this doesn’t work, ask your instructor.)\n",
    "\n",
    "After installing the libraries, try running the next code cell (the one asks you to write prompt to import pandas, matplotlib, and seaborn). If it works without errors, you’re ready to continue. If it shows an error (e.g., ‘ModuleNotFoundError’), you need to update the notebook’s settings. To do this, click the kernel name (e.g., ‘base’) in the top-right corner—don’t worry if it’s different, just click it—and look for a ‘Restart’ option in the dropdown. If you don’t see it, press Ctrl+Shift+P to open the Command Palette, type ‘Jupyter: Restart Kernel’ and select it. Restarting refreshes the notebook to use the new libraries. After restarting, run the next code cell again to confirm it works. If you’re still stuck, ask your instructor for help. \n",
    "\n",
    "\n",
    "**Task**: Use GitHub Copilot to generate the import statements for `pandas`, `matplotlib`, and `seaborn`. Write a prompt as a comment (e.g., `# Write code to import pandas, matplotlib, and seaborn`) and let Copilot suggest the code."
   ]
  },
  {
   "cell_type": "code",
   "execution_count": null,
   "metadata": {},
   "outputs": [],
   "source": [
    "# Write a promt to import pandas, matplotlib, and seaborn\n",
    "import pandas as pd\n",
    "\n"
   ]
  },
  {
   "cell_type": "markdown",
   "metadata": {},
   "source": [
    "## Section 1: Load and Examine the Dataset\n",
    "\n",
    "**Task**: Use GitHub Copilot to generate code to load `GCAP3226_week2.csv` into a pandas DataFrame and display the first five rows. Write a prompt as a comment and run the code. Make sure to include **the directory** of the dataset in the prompt."
   ]
  },
  {
   "cell_type": "code",
   "execution_count": null,
   "metadata": {},
   "outputs": [],
   "source": [
    "# Write code to load GCAP3226_week2.csv into a pandas DataFrame and show the first five rows"
   ]
  },
  {
   "cell_type": "markdown",
   "metadata": {},
   "source": [
    "## Section 2: Understand the Dataset Structure\n",
    "\n",
    "**Task**: Use GitHub Copilot to generate code to display dataset information and summary statistics and *add some comment lines to explain what each line of code does* . Write a prompt as a comment and run the code.\n"
   ]
  },
  {
   "cell_type": "code",
   "execution_count": null,
   "metadata": {},
   "outputs": [],
   "source": [
    "# Write code to display dataset info and summary statistics and add some comment lines to explain what each line of code does\n",
    "                 "
   ]
  },
  {
   "cell_type": "markdown",
   "metadata": {},
   "source": [
    "## Section 3: Visualize Categorical Data\n",
    "\n",
    "**Task**: Use GitHub Copilot to generate code for a \n",
    "- frequency table\n",
    "- bar chart, and \n",
    "- pie chart of support_level. \n",
    "\n",
    "The variable is called `support_info`. Make sure the figures have good readability."
   ]
  },
  {
   "cell_type": "code",
   "execution_count": null,
   "metadata": {},
   "outputs": [],
   "source": [
    "# Write code to create a frequency table for support_info"
   ]
  },
  {
   "cell_type": "code",
   "execution_count": null,
   "metadata": {},
   "outputs": [],
   "source": [
    "# Write code to create a bar chart for support_info, ordered by strongly disagree (1) to strongly agree (5), with labels and axis titles\n",
    "# Write code to label the 1-5 scale as 1=Strongly oppose, 2=Oppose, 3=Neutral, 4=Support, 5=Strongly support"
   ]
  },
  {
   "cell_type": "code",
   "execution_count": null,
   "metadata": {},
   "outputs": [],
   "source": [
    "# Write code to create a pie chart for support_info, explicitly label the 1-5 scale as 1=Strongly oppose, 2=Oppose, 3=Neutral, 4=Support, 5=Strongly support   "
   ]
  },
  {
   "cell_type": "code",
   "execution_count": null,
   "metadata": {},
   "outputs": [],
   "source": [
    "# Write code to create bar charts for support_info and support_after_info; put the plots in the 1x2 grid. Modify the output using github copilot chat and apply the new code if necessary.\n",
    "# Get the maximum count for y-axis limit\n",
    "# Bar chart for support_info\n",
    "# Bar chart for support_after_info"
   ]
  },
  {
   "cell_type": "code",
   "execution_count": null,
   "metadata": {},
   "outputs": [],
   "source": [
    "# Write code to create bar charts for perceived fairness, government_consideration, policy_helpfulness, and waste_severity with correct Likert scales and labels\n",
    "# Define variables, titles, and Likert scale options for each\n",
    "# Calculate max count for y-axis scaling"
   ]
  },
  {
   "cell_type": "markdown",
   "metadata": {},
   "source": [
    "**More Tasks**: \n",
    "- To see the living district distribution of respondents (now the living district information is coded by 0/1, you may consult with Github Copilot the steps to do this task)\n",
    "- To generate a cross table showing the percentage of respondents in each district who report seeing a food waste bin (`food_waste_behavior`)"
   ]
  },
  {
   "cell_type": "code",
   "execution_count": null,
   "metadata": {},
   "outputs": [],
   "source": [
    "# Write code to generate the living district distribution of respondents (now the living district information is coded by 0/1)\n",
    "# Step 1. Count the number of columns which contain the string \"HongKongDistrict\" in df\n",
    "# Step 2. Combine all district columns into one Series and count frequencies\n",
    "    # Extract district name after the underscore\n",
    "    # Sum the values (number of participants for this district)\n",
    "# Step 3. Generate a bar chart to visualize the frequency table above, ordered by frequency descending"
   ]
  },
  {
   "cell_type": "code",
   "execution_count": null,
   "metadata": {},
   "outputs": [],
   "source": [
    "# To generate a cross table showing the percentage of respondents in each district who report seeing a food waste bin (`food_waste_behavior`) The district information is coded by 0/1, for example, HongKongDistrict_CW\tHongKongDistrict_KowloonCity\tHongKongDistrict_Other\tHongKongDistrict_North\tHongKongDistrict_Southern. The value of food waste behavior are never_seen, seen_not_used, seen_and_used.\n",
    "# Step 1. Create a DataFrame to hold district and food waste behavior\n",
    "    # Filter respondents living in this district\n",
    "        # Count food waste behavior\n",
    "# Step 2. Create a pivot table for better visualization\n",
    "# Step 3. Visualize the pivot table using a grouped bar chart"
   ]
  },
  {
   "cell_type": "markdown",
   "metadata": {},
   "source": [
    "## Section 4: Analyze the Continuous Data (vs a Categorical Data)\n",
    "\n",
    "A box-whisker plot, or box plot, is a graphical representation of the five-number summary of a dataset: the minimum, first quartile (Q1), median, third quartile (Q3), and maximum. It is a standardized way of displaying the distribution of data based on these five key statistics.\n",
    "\n",
    "Histogram is a type of bar chart used to show the distribution of continuous numerical data by dividing the data into intervals called bins and displaying the frequency of data points within each bin as a vertical bar.\n",
    "\n",
    "**Task**: Use GitHub Copilot to generate code for summary statistics, a box-whisker plot, and a histogram of the distance of the nearest recycle facility to the respondents (m)`Distance_artificial`. Write prompts as comments and run the code in the cell."
   ]
  },
  {
   "cell_type": "code",
   "execution_count": null,
   "metadata": {},
   "outputs": [],
   "source": [
    "# Write code to display summary statistics for Distance_artificial\n",
    "# Write code to create a box-whisker plot and histogram for Distance_artificial and put then in a 1x2 way.\n",
    "# Box-whisker plot\n",
    "# Histogram"
   ]
  },
  {
   "cell_type": "markdown",
   "metadata": {},
   "source": [
    "## Section 5: Explore Relationships Between Variables\n",
    "\n",
    "**Task**: Use GitHub Copilot to generate code to explore the relationship between the distance of the nearest recycle facility to the respondents (`Distance_artificial`) and the recycling effort (`recycling_effort`) . Write a prompt as a comment and run the code in the cell."
   ]
  },
  {
   "cell_type": "code",
   "execution_count": null,
   "metadata": {},
   "outputs": [],
   "source": [
    "# Write code to create a scatter plot with jitter of `Distance_artificial` vs. `recycling_effort`"
   ]
  },
  {
   "cell_type": "markdown",
   "metadata": {},
   "source": [
    "## Section 6: Save Visualizations to a Designated Directory\n",
    "\n",
    "**Task**: Use GitHub Copilot to generate code to check if the `plots` directory exists, create it if it doesn’t. Then, modify the previous visualization codes to save any one plot in png format to `plots/`."
   ]
  },
  {
   "cell_type": "code",
   "execution_count": null,
   "metadata": {},
   "outputs": [],
   "source": [
    "# Write code to check if plots directory exists, create it if not, and list files  "
   ]
  },
  {
   "cell_type": "markdown",
   "metadata": {},
   "source": [
    "## Reflection and Policy Insights\n",
    "\n",
    "**Task**: \n",
    "- Summarize key insights from visualizations (100-150 words) (CILO 3).\n",
    "- Propose one more question that can be answered using visualization. "
   ]
  }
 ],
 "metadata": {
  "kernelspec": {
   "display_name": "Python 3",
   "language": "python",
   "name": "python3"
  },
  "language_info": {
   "codemirror_mode": {
    "name": "ipython",
    "version": 3
   },
   "file_extension": ".py",
   "mimetype": "text/x-python",
   "name": "python",
   "nbconvert_exporter": "python",
   "pygments_lexer": "ipython3",
   "version": "3.13.2"
  }
 },
 "nbformat": 4,
 "nbformat_minor": 4
}
