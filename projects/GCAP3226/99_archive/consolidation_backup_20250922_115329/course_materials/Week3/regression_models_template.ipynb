{
 "cells": [
  {
   "cell_type": "markdown",
   "metadata": {},
   "source": [
    "# Regression Models Template\n",
    "\n",
    "This notebook demonstrates linear, logistic, and ordinal regression using the waste charging policy dataset.\n",
    "\n",
    "## Libraries\n",
    "We will use:\n",
    "- pandas for data handling\n",
    "- numpy for numerical operations\n",
    "- scikit-learn for linear and logistic regression\n",
    "- statsmodels for ordinal regression"
   ]
  },
  {
   "cell_type": "code",
   "execution_count": 10,
   "metadata": {},
   "outputs": [],
   "source": [
    "import pandas as pd\n",
    "import numpy as np\n",
    "from sklearn.linear_model import LinearRegression, LogisticRegression\n",
    "from sklearn.metrics import mean_squared_error, accuracy_score, confusion_matrix\n",
    "from statsmodels.miscmodels.ordinal_model import OrderedModel\n",
    "import statsmodels.api as sm\n",
    "import matplotlib.pyplot as plt"
   ]
  },
  {
   "cell_type": "code",
   "execution_count": 3,
   "metadata": {},
   "outputs": [
    {
     "data": {
      "text/html": [
       "<div>\n",
       "<style scoped>\n",
       "    .dataframe tbody tr th:only-of-type {\n",
       "        vertical-align: middle;\n",
       "    }\n",
       "\n",
       "    .dataframe tbody tr th {\n",
       "        vertical-align: top;\n",
       "    }\n",
       "\n",
       "    .dataframe thead th {\n",
       "        text-align: right;\n",
       "    }\n",
       "</style>\n",
       "<table border=\"1\" class=\"dataframe\">\n",
       "  <thead>\n",
       "    <tr style=\"text-align: right;\">\n",
       "      <th></th>\n",
       "      <th>ID</th>\n",
       "      <th>support_info</th>\n",
       "      <th>support_after_info</th>\n",
       "      <th>fairness</th>\n",
       "      <th>government_consideration</th>\n",
       "      <th>policy_helpfulness_original</th>\n",
       "      <th>policy_helpfulness</th>\n",
       "      <th>waste_severity</th>\n",
       "      <th>recycling_effort</th>\n",
       "      <th>food_waste_behavior</th>\n",
       "      <th>...</th>\n",
       "      <th>recycle_frequency</th>\n",
       "      <th>household_size</th>\n",
       "      <th>Q1_score</th>\n",
       "      <th>Q2_score</th>\n",
       "      <th>Q3_score</th>\n",
       "      <th>total_score</th>\n",
       "      <th>height</th>\n",
       "      <th>Distance to Nearest Recycling Facility</th>\n",
       "      <th>error</th>\n",
       "      <th>Distance_artificial</th>\n",
       "    </tr>\n",
       "  </thead>\n",
       "  <tbody>\n",
       "    <tr>\n",
       "      <th>0</th>\n",
       "      <td>1</td>\n",
       "      <td>1</td>\n",
       "      <td>1</td>\n",
       "      <td>1</td>\n",
       "      <td>1</td>\n",
       "      <td>1</td>\n",
       "      <td>1</td>\n",
       "      <td>3</td>\n",
       "      <td>1</td>\n",
       "      <td>never_seen</td>\n",
       "      <td>...</td>\n",
       "      <td>1</td>\n",
       "      <td>0</td>\n",
       "      <td>0</td>\n",
       "      <td>1</td>\n",
       "      <td>0</td>\n",
       "      <td>1</td>\n",
       "      <td>1.72</td>\n",
       "      <td>400</td>\n",
       "      <td>-10.263397</td>\n",
       "      <td>259.826667</td>\n",
       "    </tr>\n",
       "    <tr>\n",
       "      <th>1</th>\n",
       "      <td>2</td>\n",
       "      <td>5</td>\n",
       "      <td>5</td>\n",
       "      <td>5</td>\n",
       "      <td>5</td>\n",
       "      <td>5</td>\n",
       "      <td>4</td>\n",
       "      <td>2</td>\n",
       "      <td>2</td>\n",
       "      <td>never_seen</td>\n",
       "      <td>...</td>\n",
       "      <td>2</td>\n",
       "      <td>1</td>\n",
       "      <td>0</td>\n",
       "      <td>1</td>\n",
       "      <td>1</td>\n",
       "      <td>2</td>\n",
       "      <td>1.85</td>\n",
       "      <td>300</td>\n",
       "      <td>90.062855</td>\n",
       "      <td>260.040000</td>\n",
       "    </tr>\n",
       "    <tr>\n",
       "      <th>2</th>\n",
       "      <td>3</td>\n",
       "      <td>3</td>\n",
       "      <td>5</td>\n",
       "      <td>5</td>\n",
       "      <td>4</td>\n",
       "      <td>2</td>\n",
       "      <td>2</td>\n",
       "      <td>3</td>\n",
       "      <td>1</td>\n",
       "      <td>seen_not_used</td>\n",
       "      <td>...</td>\n",
       "      <td>1</td>\n",
       "      <td>3</td>\n",
       "      <td>0</td>\n",
       "      <td>1</td>\n",
       "      <td>0</td>\n",
       "      <td>1</td>\n",
       "      <td>1.72</td>\n",
       "      <td>400</td>\n",
       "      <td>108.336080</td>\n",
       "      <td>338.893333</td>\n",
       "    </tr>\n",
       "    <tr>\n",
       "      <th>3</th>\n",
       "      <td>4</td>\n",
       "      <td>1</td>\n",
       "      <td>2</td>\n",
       "      <td>2</td>\n",
       "      <td>1</td>\n",
       "      <td>2</td>\n",
       "      <td>2</td>\n",
       "      <td>3</td>\n",
       "      <td>2</td>\n",
       "      <td>never_seen</td>\n",
       "      <td>...</td>\n",
       "      <td>2</td>\n",
       "      <td>0</td>\n",
       "      <td>0</td>\n",
       "      <td>1</td>\n",
       "      <td>1</td>\n",
       "      <td>2</td>\n",
       "      <td>1.67</td>\n",
       "      <td>300</td>\n",
       "      <td>-11.113667</td>\n",
       "      <td>192.593333</td>\n",
       "    </tr>\n",
       "    <tr>\n",
       "      <th>4</th>\n",
       "      <td>5</td>\n",
       "      <td>1</td>\n",
       "      <td>3</td>\n",
       "      <td>4</td>\n",
       "      <td>3</td>\n",
       "      <td>1</td>\n",
       "      <td>1</td>\n",
       "      <td>3</td>\n",
       "      <td>2</td>\n",
       "      <td>seen_not_used</td>\n",
       "      <td>...</td>\n",
       "      <td>2</td>\n",
       "      <td>2</td>\n",
       "      <td>0</td>\n",
       "      <td>1</td>\n",
       "      <td>1</td>\n",
       "      <td>2</td>\n",
       "      <td>1.84</td>\n",
       "      <td>300</td>\n",
       "      <td>49.418514</td>\n",
       "      <td>232.946667</td>\n",
       "    </tr>\n",
       "  </tbody>\n",
       "</table>\n",
       "<p>5 rows × 43 columns</p>\n",
       "</div>"
      ],
      "text/plain": [
       "   ID  support_info  support_after_info  fairness  government_consideration  \\\n",
       "0   1             1                   1         1                         1   \n",
       "1   2             5                   5         5                         5   \n",
       "2   3             3                   5         5                         4   \n",
       "3   4             1                   2         2                         1   \n",
       "4   5             1                   3         4                         3   \n",
       "\n",
       "   policy_helpfulness_original  policy_helpfulness  waste_severity  \\\n",
       "0                            1                   1               3   \n",
       "1                            5                   4               2   \n",
       "2                            2                   2               3   \n",
       "3                            2                   2               3   \n",
       "4                            1                   1               3   \n",
       "\n",
       "   recycling_effort food_waste_behavior  ...  recycle_frequency  \\\n",
       "0                 1          never_seen  ...                  1   \n",
       "1                 2          never_seen  ...                  2   \n",
       "2                 1       seen_not_used  ...                  1   \n",
       "3                 2          never_seen  ...                  2   \n",
       "4                 2       seen_not_used  ...                  2   \n",
       "\n",
       "   household_size  Q1_score  Q2_score  Q3_score  total_score  height  \\\n",
       "0               0         0         1         0            1    1.72   \n",
       "1               1         0         1         1            2    1.85   \n",
       "2               3         0         1         0            1    1.72   \n",
       "3               0         0         1         1            2    1.67   \n",
       "4               2         0         1         1            2    1.84   \n",
       "\n",
       "   Distance to Nearest Recycling Facility       error  Distance_artificial  \n",
       "0                                     400  -10.263397           259.826667  \n",
       "1                                     300   90.062855           260.040000  \n",
       "2                                     400  108.336080           338.893333  \n",
       "3                                     300  -11.113667           192.593333  \n",
       "4                                     300   49.418514           232.946667  \n",
       "\n",
       "[5 rows x 43 columns]"
      ]
     },
     "execution_count": 3,
     "metadata": {},
     "output_type": "execute_result"
    }
   ],
   "source": [
    "# Load the dataset\n",
    "df = pd.read_csv(\"D:\\\\Incoming\\\\202526_S1\\\\GCAP3226\\\\GCAP3226_week3.csv\")\n",
    "\n",
    "# Display the first few rows to verify\n",
    "df.head()"
   ]
  },
  {
   "cell_type": "code",
   "execution_count": 4,
   "metadata": {},
   "outputs": [
    {
     "data": {
      "text/plain": [
       "age\n",
       "40.0    26\n",
       "30.0    23\n",
       "50.0    22\n",
       "20.0    19\n",
       "60.0     6\n",
       "70.0     1\n",
       "Name: count, dtype: int64"
      ]
     },
     "execution_count": 4,
     "metadata": {},
     "output_type": "execute_result"
    }
   ],
   "source": [
    "# Recode age from binary columns to a single 'age' column with midpoints\n",
    "age_columns = ['AgeRange_18-24', 'AgeRange_25-34', 'AgeRange_35-44', 'AgeRange_45-54', 'AgeRange_55-64', 'AgeRange_65+']\n",
    "midpoints = [20, 30, 40, 50, 60, 70]\n",
    "\n",
    "# Create 'age' column by finding the midpoint where the binary is 1\n",
    "df['age'] = np.nan\n",
    "for col, midpoint in zip(age_columns, midpoints):\n",
    "    df.loc[df[col] == 1, 'age'] = midpoint\n",
    "\n",
    "# Handle any missing ages if necessary (e.g., drop or impute)\n",
    "df = df.dropna(subset=['age'])  # Example: drop rows with missing age\n",
    "\n",
    "# Verify the new 'age' column\n",
    "df['age'].value_counts()"
   ]
  },
  {
   "cell_type": "markdown",
   "metadata": {},
   "source": [
    "## Part 1: Linear Regression\n",
    "\n",
    "We treat 'support_info' as a continuous variable for linear regression purposes.\n",
    "\n",
    "### Simple Linear Regression 1: support_info vs fairness"
   ]
  },
  {
   "cell_type": "code",
   "execution_count": 26,
   "metadata": {},
   "outputs": [
    {
     "name": "stdout",
     "output_type": "stream",
     "text": [
      "Model Summary:\n",
      "==============================================================================\n",
      "                 coef    std err          t      P>|t|      [0.025      0.975]\n",
      "------------------------------------------------------------------------------\n",
      "const          0.4950      0.247      2.007      0.048       0.005       0.985\n",
      "fairness       0.7936      0.078     10.184      0.000       0.639       0.948\n",
      "==============================================================================\n",
      "\n",
      "R-squared: 0.5219\n"
     ]
    },
    {
     "data": {
      "image/png": "[encoded data removed]",
      "text/plain": [
       "<Figure size 640x480 with 1 Axes>"
      ]
     },
     "metadata": {},
     "output_type": "display_data"
    }
   ],
   "source": [
    "# Prepare data\n",
    "X1 = df[['fairness']].dropna()\n",
    "y = df.loc[X1.index, 'support_info']\n",
    "\n",
    "# Fit model using sklearn for predictions\n",
    "lin_reg1 = LinearRegression()\n",
    "lin_reg1.fit(X1, y)\n",
    "\n",
    "# Fit model using statsmodels for statistical tests\n",
    "X1_sm = sm.add_constant(X1)  # Add constant term for intercept\n",
    "model = sm.OLS(y, X1_sm)\n",
    "results = model.fit()\n",
    "\n",
    "# Predictions for plotting\n",
    "y_pred1 = lin_reg1.predict(X1)\n",
    "\n",
    "print(\"Model Summary:\")\n",
    "print(results.summary().tables[1])  # Print coefficient statistics\n",
    "print(f\"\\nR-squared: {results.rsquared:.4f}\")\n",
    "\n",
    "# Plot\n",
    "plt.scatter(X1, y)\n",
    "plt.plot(X1, y_pred1, color='red')\n",
    "plt.xlabel('fairness')\n",
    "plt.ylabel('support_info')\n",
    "plt.title('Simple Linear Regression: support_info vs fairness')\n",
    "plt.show()"
   ]
  },
  {
   "cell_type": "markdown",
   "metadata": {},
   "source": [
    "#### Interpreting Simple Linear Regression Results\n",
    "\n",
    "The output above shows several key statistics:\n",
    "\n",
    "1. **Coefficient Statistics Table:**\n",
    "   - `coef`: The estimated coefficient value\n",
    "   - `P>|t|`: p-value     \n",
    "\n",
    "   P-value is the probability of obtaining the sample results (e.g., estimated coefficient values), or an even more extreme result, if the null hypothesis (that the coefficient equals zero) is true. If p-value is very small, this means that observing our sample result would be very unlikely under the null hypothesis (coefficient = 0). Given that we have observed such an unusual result, we have evidence to reject the null hypothesis and conclude that the coefficient is significantly different from zero.\n",
    "   - `[0.025 0.975]`: 95% confidence interval\n",
    "\n",
    "2. **How to interpret:**\n",
    "   - If p-value < 0.05, a commonly used threshold which is called the significance level, the coefficient is significantly different from 0\n",
    "   - Coefficient shows the average change in support_info for a one-unit increase in fairness\n",
    "   - R-squared shows the proportion of variance explained by the model (0 to 1, higher is better). It measures model’s explanatory power.\n",
    "\n",
    "3. **Plot interpretation:**\n",
    "   - Scatter points show actual data\n",
    "   - Red line shows the estimated relationship between variables\n",
    "   - The closer points are to the line, the better the model fit"
   ]
  },
  {
   "cell_type": "markdown",
   "metadata": {},
   "source": [
    "#### Interpreting Coefficients Estimate with Likert Scale Response Variable\n",
    "\n",
    "When interpreting regression results with a Likert scale (1-5) response variable:\n",
    "\n",
    "1. **Constant ($\\hat \\beta_0$) = 0.4950 (p = 0.048)**\n",
    "   - This represents the predicted baseline support level (when fairness = 0)\n",
    "   - While statistically significant (p < 0.05), the actual value has limited practical interpretation since fairness cannot be 0 on a 1-5 scale\n",
    "\n",
    "2. **Fairness coefficient ($\\hat \\beta_1$) = 0.7936 (p < 0.001)**\n",
    "   - For each one-unit increase in perceived fairness on the 1-5 scale, support is expected to increase by 0.7936 points\n",
    "   - This is a strong positive relationship (close to 1 point increase for each point increase in fairness)\n",
    "   - Highly significant (p < 0.001)\n",
    "\n",
    "3. **Practical Example:**\n",
    "   - If someone rates fairness as 3 (\"neutral\"):\n",
    "     * Predicted support = 0.4950 + (0.7936 × 3) = 2.88\n",
    "   - If they rate fairness as 4 (\"fair\"):\n",
    "     * Predicted support = 0.4950 + (0.7936 × 4) = 3.67\n",
    "   - This shows how higher fairness ratings associate with meaningfully higher support levels\n",
    "\n",
    "4. **R-squared** indicates how much of the variation in support levels can be explained by perceived fairness alone."
   ]
  },
  {
   "cell_type": "markdown",
   "metadata": {},
   "source": [
    "### Simple Linear Regression 2: support_info vs Distance_artificial"
   ]
  },
  {
   "cell_type": "code",
   "execution_count": 27,
   "metadata": {},
   "outputs": [
    {
     "name": "stdout",
     "output_type": "stream",
     "text": [
      "Model Summary:\n",
      "=======================================================================================\n",
      "                          coef    std err          t      P>|t|      [0.025      0.975]\n",
      "---------------------------------------------------------------------------------------\n",
      "const                   2.1969      0.404      5.432      0.000       1.394       3.000\n",
      "Distance_artificial     0.0034      0.002      1.663      0.100      -0.001       0.007\n",
      "=======================================================================================\n",
      "\n",
      "R-squared: 0.0283\n"
     ]
    },
    {
     "data": {
      "image/png": "[encoded data removed]",
      "text/plain": [
       "<Figure size 640x480 with 1 Axes>"
      ]
     },
     "metadata": {},
     "output_type": "display_data"
    }
   ],
   "source": [
    "# Prepare data\n",
    "X2 = df[['Distance_artificial']].dropna()\n",
    "y = df.loc[X2.index, 'support_info']\n",
    "\n",
    "# Fit model using sklearn for predictions\n",
    "lin_reg2 = LinearRegression()\n",
    "lin_reg2.fit(X2, y)\n",
    "\n",
    "# Fit model using statsmodels for statistical tests\n",
    "X2_sm = sm.add_constant(X2)  # Add constant term for intercept\n",
    "model = sm.OLS(y, X2_sm)\n",
    "results = model.fit()\n",
    "\n",
    "# Predictions for plotting\n",
    "y_pred2 = lin_reg2.predict(X2)\n",
    "\n",
    "print(\"Model Summary:\")\n",
    "print(results.summary().tables[1])  # Print coefficient statistics\n",
    "print(f\"\\nR-squared: {results.rsquared:.4f}\")\n",
    "\n",
    "# Plot\n",
    "plt.scatter(X2, y)\n",
    "plt.plot(X2, y_pred2, color='red')\n",
    "plt.xlabel('Distance_artificial')\n",
    "plt.ylabel('support_info')\n",
    "plt.title('Simple Linear Regression: support_info vs Distance_artificial')\n",
    "plt.show()"
   ]
  },
  {
   "cell_type": "markdown",
   "metadata": {},
   "source": [
    "**Distance coefficient ($\\hat \\beta_1$) = 0.0034 (p = 0.1 > 0.05)**\n",
    "   - There's no significant association between the distance to the recycle facilities to the level of support\n",
    "   - Distance to the recycle facilities can only explain a very limited proportion of variance in the level of support\n"
   ]
  },
  {
   "cell_type": "markdown",
   "metadata": {},
   "source": [
    "### Multiple Linear Regression: support_info vs fairness, government_consideration, policy_helpfulness, waste_severity, age"
   ]
  },
  {
   "cell_type": "code",
   "execution_count": null,
   "metadata": {},
   "outputs": [
    {
     "name": "stdout",
     "output_type": "stream",
     "text": [
      "Model Summary:\n",
      "============================================================================================\n",
      "                               coef    std err          t      P>|t|      [0.025      0.975]\n",
      "--------------------------------------------------------------------------------------------\n",
      "const                        0.2093      0.476      0.440      0.661      -0.735       1.154\n",
      "fairness                     0.4061      0.104      3.917      0.000       0.200       0.612\n",
      "government_consideration     0.4286      0.118      3.646      0.000       0.195       0.662\n",
      "policy_helpfulness           0.1867      0.111      1.686      0.095      -0.033       0.407\n",
      "waste_severity               0.1334      0.139      0.958      0.341      -0.143       0.410\n",
      "age                         -0.0122      0.007     -1.838      0.069      -0.025       0.001\n",
      "============================================================================================\n",
      "\n",
      "R-squared: 0.6517\n",
      "MSE: 0.56\n",
      "\n",
      "Model Diagnostics:\n",
      "F-statistic: 34.05\n",
      "Prob (F-statistic): 0.0000\n"
     ]
    }
   ],
   "source": [
    "# Prepare data\n",
    "features = ['fairness', 'government_consideration', 'policy_helpfulness', 'waste_severity', 'age']\n",
    "X_multi = df[features].dropna()\n",
    "y_multi = df.loc[X_multi.index, 'support_info']\n",
    "\n",
    "# Fit model using sklearn for predictions\n",
    "lin_reg_multi = LinearRegression()\n",
    "lin_reg_multi.fit(X_multi, y_multi)\n",
    "\n",
    "# Fit model using statsmodels for statistical tests\n",
    "X_multi_sm = sm.add_constant(X_multi)  # Add constant term for intercept\n",
    "model = sm.OLS(y_multi, X_multi_sm)\n",
    "results = model.fit()\n",
    "\n",
    "print(\"Model Summary:\")\n",
    "print(results.summary().tables[1])  # Print coefficient statistics\n",
    "print(f\"\\nR-squared: {results.rsquared:.4f}\")\n",
    "\n",
    "# Model significance\n",
    "print(\"\\nModel Diagnostics:\")\n",
    "print(f\"F-statistic: {results.fvalue:.2f}\")\n",
    "print(f\"Prob (F-statistic): {results.f_pvalue:.4f}\")  # Overall model significance"
   ]
  },
  {
   "cell_type": "markdown",
   "metadata": {},
   "source": [
    "#### Interpreting Multiple Linear Regression Results\n",
    "\n",
    "The output shows several important statistics:\n",
    "\n",
    "1. **Coefficient Statistics Table:**\n",
    "   - Each row represents one predictor variable\n",
    "   - Interpretation is similar to simple regression, but now each coefficient represents the estimated effect while holding other variables constant\n",
    "   - P>|t| < 0.05 indicates statistical significance\n",
    "\n",
    "2. **Model Quality Metrics:**\n",
    "   - R-squared: Proportion of variance explained by all predictors together (0 to 1, higher is better)\n",
    "   - F-statistic and its p-value: Tests if the model as a whole is significant\n",
    "     - If Prob (F-statistic) < 0.05, the model is statistically significant\n",
    "\n",
    "3. **Coefficients:**\n",
    "   - Positive coefficients indicate positive relationships\n",
    "   - Negative coefficients indicate negative relationships\n",
    "   - Compare standardized coefficients to assess relative importance, the larger absolute values, the stronger the effects"
   ]
  },
  {
   "cell_type": "markdown",
   "metadata": {},
   "source": [
    "## Part 2: Logistic Regression\n",
    "\n",
    "Recode 'support_info' to binary 'Support_binary' (1/2 -> 0; 4/5 -> 1; exclude 3)"
   ]
  },
  {
   "cell_type": "code",
   "execution_count": 14,
   "metadata": {},
   "outputs": [],
   "source": [
    "# Recode support_info to Support_binary\n",
    "df['Support_binary'] = np.nan\n",
    "df.loc[df['support_info'].isin([1, 2]), 'Support_binary'] = 0\n",
    "df.loc[df['support_info'].isin([4, 5]), 'Support_binary'] = 1\n",
    "\n",
    "# Drop rows where Support_binary is NaN (i.e., original 3)\n",
    "df_log = df.dropna(subset=['Support_binary'])"
   ]
  },
  {
   "cell_type": "markdown",
   "metadata": {},
   "source": [
    "### Logistic Regression 1: Support_binary vs fairness"
   ]
  },
  {
   "cell_type": "code",
   "execution_count": 19,
   "metadata": {},
   "outputs": [
    {
     "name": "stdout",
     "output_type": "stream",
     "text": [
      "Optimization terminated successfully.\n",
      "         Current function value: 0.377056\n",
      "         Iterations 7\n",
      "Model Summary:\n",
      "==============================================================================\n",
      "                 coef    std err          z      P>|z|      [0.025      0.975]\n",
      "------------------------------------------------------------------------------\n",
      "const         -5.8165      1.319     -4.411      0.000      -8.401      -3.232\n",
      "fairness       1.9254      0.411      4.689      0.000       1.121       2.730\n",
      "==============================================================================\n",
      "\n",
      "Accuracy: 0.81\n",
      "\n",
      "Confusion Matrix:\n",
      "[[35  4]\n",
      " [10 25]]\n",
      "\n",
      "Model Diagnostics:\n",
      "Log-Likelihood: -27.90\n",
      "Pseudo R-squared: 0.4549\n",
      "LLR p-value: 0.0000\n"
     ]
    }
   ],
   "source": [
    "# Prepare data\n",
    "X_log1 = df_log[['fairness']].dropna()\n",
    "y_log = df_log.loc[X_log1.index, 'Support_binary']\n",
    "\n",
    "# Fit model using sklearn for predictions\n",
    "log_reg1 = LogisticRegression()\n",
    "log_reg1.fit(X_log1, y_log)\n",
    "\n",
    "# Fit model using statsmodels for statistical tests\n",
    "X_log1_sm = sm.add_constant(X_log1)  # Add constant term for intercept\n",
    "model = sm.Logit(y_log, X_log1_sm)\n",
    "results = model.fit(method='newton')\n",
    "\n",
    "# Predictions and metrics\n",
    "y_pred_log1 = log_reg1.predict(X_log1)\n",
    "acc1 = accuracy_score(y_log, y_pred_log1)\n",
    "conf1 = confusion_matrix(y_log, y_pred_log1)\n",
    "\n",
    "print(\"Model Summary:\")\n",
    "print(results.summary().tables[1])  # Print coefficient statistics\n",
    "print(f\"\\nAccuracy: {acc1:.2f}\")\n",
    "print(\"\\nConfusion Matrix:\")\n",
    "print(conf1)\n",
    "\n",
    "# Additional model diagnostics\n",
    "print(\"\\nModel Diagnostics:\")\n",
    "print(f\"Log-Likelihood: {results.llf:.2f}\")\n",
    "print(f\"Pseudo R-squared: {results.prsquared:.4f}\")\n",
    "print(f\"LLR p-value: {results.llr_pvalue:.4f}\")  # Overall model significance"
   ]
  },
  {
   "cell_type": "markdown",
   "metadata": {},
   "source": [
    "#### Interpreting Logistic Regression Results\n",
    "\n",
    "The output includes several important measures:\n",
    "\n",
    "1. **Coefficient Statistics Table:**\n",
    "   - `coef`: Log odds ratio\n",
    "   - `std err`: Standard error of the estimate\n",
    "   - `z`: z-statistic (for testing significance)\n",
    "   - `P>|z|`: p-value (statistical significance)\n",
    "   - `[0.025 0.975]`: 95% confidence interval\n",
    "\n",
    "2. **Model Quality Metrics:**\n",
    "   - Pseudo R-squared: Measure of model fit (higher is better)\n",
    "   - Log-Likelihood: Used for model comparison (higher is better)\n",
    "   - LLR p-value: Tests if model is better than null model\n",
    "   - Accuracy: Proportion of correct predictions\n",
    "   - Confusion Matrix: Shows true vs predicted classifications\n",
    "     - Row 1: True Negatives (0,0), False Positives (0,1)\n",
    "     - Row 2: False Negatives (1,0), True Positives (1,1)\n",
    "\n",
    "3. **Interpreting Coefficients:**\n",
    "   - exp(coef) gives odds ratio\n",
    "   - Positive coefficients increase probability of support\n",
    "   - Negative coefficients decrease probability of support"
   ]
  },
  {
   "cell_type": "markdown",
   "metadata": {},
   "source": [
    "### Logistic Regression 2: Support_binary vs fairness + government_consideration, policy_helpfulness, waste_severity, age"
   ]
  },
  {
   "cell_type": "code",
   "execution_count": 22,
   "metadata": {},
   "outputs": [
    {
     "name": "stdout",
     "output_type": "stream",
     "text": [
      "Optimization terminated successfully.\n",
      "         Current function value: 0.145761\n",
      "         Iterations 11\n",
      "Model Summary:\n",
      "============================================================================================\n",
      "                               coef    std err          z      P>|z|      [0.025      0.975]\n",
      "--------------------------------------------------------------------------------------------\n",
      "const                      -22.1798      9.024     -2.458      0.014     -39.866      -4.494\n",
      "fairness                     4.1282      1.748      2.362      0.018       0.702       7.554\n",
      "government_consideration     4.9296      2.080      2.370      0.018       0.853       9.007\n",
      "policy_helpfulness           1.6849      0.920      1.831      0.067      -0.119       3.488\n",
      "waste_severity               0.0153      1.175      0.013      0.990      -2.288       2.319\n",
      "age                         -0.2236      0.100     -2.229      0.026      -0.420      -0.027\n",
      "============================================================================================\n",
      "\n",
      "Accuracy: 0.93\n",
      "\n",
      "Confusion Matrix:\n",
      "[[35  4]\n",
      " [ 1 34]]\n",
      "\n",
      "Model Diagnostics:\n",
      "Log-Likelihood: -10.79\n",
      "Pseudo R-squared: 0.7893\n",
      "LLR p-value: 0.0000\n"
     ]
    }
   ],
   "source": [
    "# Prepare data\n",
    "features_log = ['fairness', 'government_consideration', 'policy_helpfulness', 'waste_severity', 'age']\n",
    "X_log2 = df_log[features_log].dropna()\n",
    "y_log2 = df_log.loc[X_log2.index, 'Support_binary']\n",
    "\n",
    "# Fit model using sklearn for predictions\n",
    "log_reg2 = LogisticRegression()\n",
    "log_reg2.fit(X_log2, y_log2)\n",
    "\n",
    "# Fit model using statsmodels for statistical tests\n",
    "X_log2_sm = sm.add_constant(X_log2)  # Add constant term for intercept\n",
    "model = sm.Logit(y_log2, X_log2_sm)\n",
    "results = model.fit(method='newton')\n",
    "\n",
    "# Predictions and metrics\n",
    "y_pred_log2 = log_reg2.predict(X_log2)\n",
    "acc2 = accuracy_score(y_log2, y_pred_log2)\n",
    "conf2 = confusion_matrix(y_log2, y_pred_log2)\n",
    "\n",
    "print(\"Model Summary:\")\n",
    "print(results.summary().tables[1])  # Print coefficient statistics\n",
    "print(f\"\\nAccuracy: {acc2:.2f}\")\n",
    "print(\"\\nConfusion Matrix:\")\n",
    "print(conf2)\n",
    "\n",
    "# Additional model diagnostics\n",
    "print(\"\\nModel Diagnostics:\")\n",
    "print(f\"Log-Likelihood: {results.llf:.2f}\")\n",
    "print(f\"Pseudo R-squared: {results.prsquared:.4f}\")\n",
    "print(f\"LLR p-value: {results.llr_pvalue:.4f}\")  # Overall model significance"
   ]
  },
  {
   "cell_type": "markdown",
   "metadata": {},
   "source": [
    "## Part 3: Ordinal Regression\n",
    "\n",
    "Recode 'support_info' to ordinal 'Support_ordinal' (1/2 -> 0; 3 -> 1; 4/5 -> 2)\n",
    "\n",
    "Using statsmodels OrderedModel for proper ordinal regression."
   ]
  },
  {
   "cell_type": "code",
   "execution_count": 23,
   "metadata": {},
   "outputs": [],
   "source": [
    "# Recode support_info to Support_ordinal\n",
    "df['Support_ordinal'] = np.nan\n",
    "df.loc[df['support_info'].isin([1, 2]), 'Support_ordinal'] = 0\n",
    "df.loc[df['support_info'] == 3, 'Support_ordinal'] = 1\n",
    "df.loc[df['support_info'].isin([4, 5]), 'Support_ordinal'] = 2\n",
    "\n",
    "# Drop rows where Support_ordinal is NaN (if any)\n",
    "df_ord = df.dropna(subset=['Support_ordinal'])"
   ]
  },
  {
   "cell_type": "markdown",
   "metadata": {},
   "source": [
    "### Ordinal Regression 1: Support_ordinal vs fairness"
   ]
  },
  {
   "cell_type": "code",
   "execution_count": 24,
   "metadata": {},
   "outputs": [
    {
     "name": "stdout",
     "output_type": "stream",
     "text": [
      "Optimization terminated successfully.\n",
      "         Current function value: 0.792489\n",
      "         Iterations: 13\n",
      "         Function evaluations: 16\n",
      "         Gradient evaluations: 16\n",
      "                             OrderedModel Results                             \n",
      "==============================================================================\n",
      "Dep. Variable:        Support_ordinal   Log-Likelihood:                -76.871\n",
      "Model:                   OrderedModel   AIC:                             159.7\n",
      "Method:            Maximum Likelihood   BIC:                             167.5\n",
      "Date:                Thu, 11 Sep 2025                                         \n",
      "Time:                        16:32:56                                         \n",
      "No. Observations:                  97                                         \n",
      "Df Residuals:                      94                                         \n",
      "Df Model:                           1                                         \n",
      "==============================================================================\n",
      "                 coef    std err          z      P>|z|      [0.025      0.975]\n",
      "------------------------------------------------------------------------------\n",
      "fairness       1.5784      0.264      5.973      0.000       1.060       2.096\n",
      "0.0/1.0        4.1386      0.820      5.045      0.000       2.531       5.746\n",
      "1.0/2.0        0.4505      0.193      2.336      0.019       0.073       0.828\n",
      "==============================================================================\n"
     ]
    }
   ],
   "source": [
    "# Prepare data\n",
    "X_ord1 = df_ord[['fairness']]\n",
    "y_ord = df_ord['Support_ordinal']\n",
    "\n",
    "# Fit model\n",
    "ord_reg1 = OrderedModel(y_ord, X_ord1, distr='logit')\n",
    "result1 = ord_reg1.fit(method='bfgs')\n",
    "\n",
    "print(result1.summary())"
   ]
  },
  {
   "cell_type": "markdown",
   "metadata": {},
   "source": [
    "#### Interpreting Ordinal Regression Results\n",
    "\n",
    "The output includes several components:\n",
    "\n",
    "1. **Model Summary Statistics:**\n",
    "   - Log-Likelihood\n",
    "   - LL-null: Log-likelihood of null model\n",
    "   - LLR p-value: Test of model significance\n",
    "   - AIC/BIC: Model comparison metrics (lower is better)\n",
    "\n",
    "2. **Coefficient Table:**\n",
    "   - Similar to logistic regression, but interprets differently\n",
    "   - Positive coefficients indicate higher probability of being in higher categories\n",
    "   - Negative coefficients indicate higher probability of being in lower categories\n",
    "   - P>|z| < 0.05 indicates statistical significance\n",
    "\n",
    "3. **Cut Points (Thresholds):**\n",
    "   - These are the estimated boundaries between ordinal categories\n",
    "   - Used to determine probability of being in each category\n",
    "   - Generally not interpreted directly\n",
    "\n",
    "4. **Interpretation Example:**\n",
    "   - For a positive coefficient of X:\n",
    "     - Higher X values → Higher probability of being in higher support categories\n",
    "     - Lower X values → Higher probability of being in lower support categories"
   ]
  },
  {
   "cell_type": "markdown",
   "metadata": {},
   "source": [
    "### Ordinal Regression 2: Support_ordinal vs fairness + government_consideration, policy_helpfulness, waste_severity, age"
   ]
  },
  {
   "cell_type": "code",
   "execution_count": 25,
   "metadata": {},
   "outputs": [
    {
     "name": "stdout",
     "output_type": "stream",
     "text": [
      "Optimization terminated successfully.\n",
      "         Current function value: 0.634385\n",
      "         Iterations: 35\n",
      "         Function evaluations: 39\n",
      "         Gradient evaluations: 39\n",
      "                             OrderedModel Results                             \n",
      "==============================================================================\n",
      "Dep. Variable:        Support_ordinal   Log-Likelihood:                -61.535\n",
      "Model:                   OrderedModel   AIC:                             137.1\n",
      "Method:            Maximum Likelihood   BIC:                             155.1\n",
      "Date:                Thu, 11 Sep 2025                                         \n",
      "Time:                        16:40:49                                         \n",
      "No. Observations:                  97                                         \n",
      "Df Residuals:                      90                                         \n",
      "Df Model:                           5                                         \n",
      "============================================================================================\n",
      "                               coef    std err          z      P>|z|      [0.025      0.975]\n",
      "--------------------------------------------------------------------------------------------\n",
      "fairness                     0.9941      0.340      2.920      0.003       0.327       1.661\n",
      "government_consideration     1.3713      0.392      3.496      0.000       0.602       2.140\n",
      "policy_helpfulness           0.4994      0.350      1.425      0.154      -0.187       1.186\n",
      "waste_severity              -0.0252      0.521     -0.048      0.961      -1.047       0.997\n",
      "age                         -0.0420      0.021     -1.974      0.048      -0.084      -0.000\n",
      "0.0/1.0                      5.3656      1.754      3.059      0.002       1.927       8.804\n",
      "1.0/2.0                      0.7244      0.192      3.777      0.000       0.349       1.100\n",
      "============================================================================================\n"
     ]
    }
   ],
   "source": [
    "# Prepare data\n",
    "features_ord = ['fairness', 'government_consideration', 'policy_helpfulness', 'waste_severity', 'age']\n",
    "X_ord2 = df_ord[features_ord]\n",
    "\n",
    "# Fit model\n",
    "ord_reg2 = OrderedModel(df_ord['Support_ordinal'], X_ord2, distr='logit')\n",
    "result2 = ord_reg2.fit(method='bfgs')\n",
    "\n",
    "print(result2.summary())"
   ]
  },
  {
   "cell_type": "markdown",
   "metadata": {},
   "source": [
    "## Conclusion\n",
    "\n",
    "This template provides the basic structure for the regressions. You can extend it with more visualizations, diagnostics, or interpretations as needed for the in-class exercise."
   ]
  }
 ],
 "metadata": {
  "kernelspec": {
   "display_name": "Python 3",
   "language": "python",
   "name": "python3"
  },
  "language_info": {
   "codemirror_mode": {
    "name": "ipython",
    "version": 3
   },
   "file_extension": ".py",
   "mimetype": "text/x-python",
   "name": "python",
   "nbconvert_exporter": "python",
   "pygments_lexer": "ipython3",
   "version": "3.13.1"
  }
 },
 "nbformat": 4,
 "nbformat_minor": 4
}
