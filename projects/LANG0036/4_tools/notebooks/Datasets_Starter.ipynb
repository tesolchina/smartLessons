{
 "cells": [
  {
   "cell_type": "code",
   "execution_count": null,
   "id": "7fd85a41",
   "metadata": {},
   "outputs": [],
   "source": [
    " "
   ]
  },
  {
   "cell_type": "markdown",
   "id": "df662318",
   "metadata": {},
   "source": [
    "# GCAP3226 Datasets Starter\n",
    "\n",
    "This notebook loads and explores example datasets for three focus areas: Transport, Air Quality, and Housing. It prints progress messages and handles missing files gracefully so students can run it without edits."
   ]
  },
  {
   "cell_type": "markdown",
   "id": "2bab4194",
   "metadata": {},
   "source": [
    "## 1) Set Up Environment and Imports\n",
    "\n",
    "We'll import core libraries, configure plotting, and set display options for pandas."
   ]
  },
  {
   "cell_type": "code",
   "execution_count": null,
   "id": "e8797693",
   "metadata": {},
   "outputs": [],
   "source": [
    "# Imports and basic setup\n",
    "import os\n",
    "import sys\n",
    "from pathlib import Path\n",
    "import logging\n",
    "\n",
    "import numpy as np\n",
    "import pandas as pd\n",
    "import matplotlib.pyplot as plt\n",
    "import seaborn as sns\n",
    "\n",
    "# Configure logging and display\n",
    "logging.basicConfig(level=logging.INFO, format='[%(levelname)s] %(message)s')\n",
    "sns.set_theme(style='whitegrid')\n",
    "pd.set_option('display.max_columns', 50)\n",
    "pd.set_option('display.width', 120)\n",
    "\n",
    "print(\"Environment ready. Pandas version:\", pd.__version__)"
   ]
  },
  {
   "cell_type": "markdown",
   "id": "c60e7b7a",
   "metadata": {},
   "source": [
    "## 2) Define Configuration and Constants\n",
    "\n",
    "We centralize paths and simple toggles here."
   ]
  },
  {
   "cell_type": "code",
   "execution_count": null,
   "id": "d1debd1e",
   "metadata": {},
   "outputs": [],
   "source": [
    "from dataclasses import dataclass\n",
    "\n",
    "ROOT = Path('/Users/simonwang/Documents/Usage/VibeCoding/DailyAssistant/projects/GCAP3226')\n",
    "DATA_ROOT = ROOT / 'course_materials/resources/datasets/open_data'\n",
    "\n",
    "@dataclass\n",
    "class Config:\n",
    "    transport_dir: Path = DATA_ROOT / 'transport'\n",
    "    air_quality_dir: Path = DATA_ROOT / 'air_quality'\n",
    "    housing_dir: Path = DATA_ROOT / 'housing'\n",
    "    sample_rows: int = 5000\n",
    "    random_seed: int = 42\n",
    "\n",
    "CFG = Config()\n",
    "np.random.seed(CFG.random_seed)\n",
    "\n",
    "print('Using data root:', DATA_ROOT)\n",
    "for name, p in [('Transport', CFG.transport_dir), ('Air Quality', CFG.air_quality_dir), ('Housing', CFG.housing_dir)]:\n",
    "    print(f' - {name}:', p, '| exists =', p.exists())"
   ]
  },
  {
   "cell_type": "markdown",
   "id": "df3b2290",
   "metadata": {},
   "source": [
    "## 3) Load or Generate Data (Helpers)\n",
    "\n",
    "Functions to pick a CSV and read it. If none found, we can generate synthetic data for demo plots."
   ]
  },
  {
   "cell_type": "code",
   "execution_count": null,
   "id": "322a7490",
   "metadata": {},
   "outputs": [],
   "source": [
    "from typing import Optional\n",
    "\n",
    "def pick_csv(folder: Path, prefer_names: Optional[list[str]] = None) -> Optional[Path]:\n",
    "    \"\"\"Pick a CSV file from folder. If prefer_names provided, try to match first.\"\"\"\n",
    "    if not folder.exists():\n",
    "        return None\n",
    "    csvs = sorted(folder.glob('*.csv'))\n",
    "    if not csvs:\n",
    "        return None\n",
    "    if prefer_names:\n",
    "        lowered = {p.name.lower(): p for p in csvs}\n",
    "        for name in prefer_names:\n",
    "            if name.lower() in lowered:\n",
    "                return lowered[name.lower()]\n",
    "    return csvs[0]\n",
    "\n",
    "\n",
    "def safe_load_csv(path: Optional[Path], nrows: Optional[int] = None) -> Optional[pd.DataFrame]:\n",
    "    if path is None:\n",
    "        logging.warning('No CSV path provided.')\n",
    "        return None\n",
    "    try:\n",
    "        print(f'Reading: {path}')\n",
    "        df = pd.read_csv(path, low_memory=False, nrows=nrows)\n",
    "        print('Loaded shape:', df.shape)\n",
    "        return df\n",
    "    except Exception as e:\n",
    "        logging.error('Failed to read %s: %s', path, e)\n",
    "        return None\n",
    "\n",
    "\n",
    "def quick_summary(df: Optional[pd.DataFrame]):\n",
    "    if df is None:\n",
    "        print('No data to summarize.')\n",
    "        return\n",
    "    display(df.head(5))\n",
    "    print('\\nInfo:')\n",
    "    print(df.info())\n",
    "    print('\\nDescribe (all dtypes):')\n",
    "    with pd.option_context('mode.use_inf_as_na', True):\n",
    "        display(df.describe(include='all', datetime_is_numeric=True).transpose().head(20))\n",
    "\n",
    "\n",
    "def first_numeric_column(df: pd.DataFrame) -> Optional[str]:\n",
    "    for col in df.select_dtypes(include=[np.number]).columns:\n",
    "        return col\n",
    "    return None"
   ]
  },
  {
   "cell_type": "markdown",
   "id": "5b2db3ac",
   "metadata": {},
   "source": [
    "## 4) Implement Core Logic Functions\n",
    "\n",
    "For this starter, core logic is simple: pick a dataset, load a sample, summarize, and make one quick plot."
   ]
  },
  {
   "cell_type": "code",
   "execution_count": null,
   "id": "855fd799",
   "metadata": {},
   "outputs": [],
   "source": [
    "def summarize_and_plot(df: Optional[pd.DataFrame], title: str = 'Dataset Summary'):\n",
    "    print(f'\\n=== {title} ===')\n",
    "    if df is None or df.empty:\n",
    "        print('No data available for plotting.')\n",
    "        return\n",
    "    quick_summary(df)\n",
    "    num_col = first_numeric_column(df)\n",
    "    if num_col:\n",
    "        print(f'Plotting histogram for numeric column: {num_col}')\n",
    "        plt.figure(figsize=(8, 4))\n",
    "        sns.histplot(df[num_col].dropna(), bins=30, kde=False)\n",
    "        plt.title(f'{title}: {num_col} distribution')\n",
    "        plt.xlabel(num_col)\n",
    "        plt.tight_layout()\n",
    "        plt.show()\n",
    "    else:\n",
    "        print('No numeric columns found to plot.')"
   ]
  },
  {
   "cell_type": "markdown",
   "id": "8539f11e",
   "metadata": {},
   "source": [
    "## 5) Validate Inputs and Add Error Handling\n",
    "\n",
    "We already log errors on failed reads and check for empty dataframes; below is a quick validator."
   ]
  },
  {
   "cell_type": "code",
   "execution_count": null,
   "id": "81b6d8c9",
   "metadata": {},
   "outputs": [],
   "source": [
    "def validate_df(df: Optional[pd.DataFrame], min_rows: int = 1) -> bool:\n",
    "    if df is None:\n",
    "        return False\n",
    "    if len(df) < min_rows:\n",
    "        logging.warning('Dataframe has fewer than %s rows (%s).', min_rows, len(df))\n",
    "        return False\n",
    "    return True"
   ]
  },
  {
   "cell_type": "markdown",
   "id": "bcdd5c04",
   "metadata": {},
   "source": [
    "## 6) Unit Tests (minimal, in-notebook)\n",
    "\n",
    "A couple quick assertions to sanity-check helpers."
   ]
  },
  {
   "cell_type": "code",
   "execution_count": null,
   "id": "68b430d3",
   "metadata": {},
   "outputs": [],
   "source": [
    "# Minimal tests\n",
    "assert validate_df(pd.DataFrame({'a': [1, 2, 3]}))\n",
    "assert first_numeric_column(pd.DataFrame({'x': ['a', 'b'], 'y': [1, 2]})) == 'y'\n",
    "print('Helper tests passed.')"
   ]
  },
  {
   "cell_type": "markdown",
   "id": "f290f07b",
   "metadata": {},
   "source": [
    "## 7) Visualize Results: Transport\n",
    "\n",
    "Pick a transport CSV, load a sample, summarize, and make a simple plot."
   ]
  },
  {
   "cell_type": "code",
   "execution_count": null,
   "id": "88989f2b",
   "metadata": {},
   "outputs": [],
   "source": [
    "print('Selecting a transport CSV...')\n",
    "transport_csv = pick_csv(CFG.transport_dir)\n",
    "print('Found:' , transport_csv)\n",
    "transport_df = safe_load_csv(transport_csv, nrows=CFG.sample_rows)\n",
    "if validate_df(transport_df):\n",
    "    summarize_and_plot(transport_df, title='Transport dataset')\n",
    "else:\n",
    "    print('No transport data available; skipping plot.')"
   ]
  },
  {
   "cell_type": "markdown",
   "id": "f7ed04a8",
   "metadata": {},
   "source": [
    "## 8) Visualize Results: Air Quality\n",
    "\n",
    "Prefer AQHI or time series CSV if present; otherwise, pick the first CSV available."
   ]
  },
  {
   "cell_type": "code",
   "execution_count": null,
   "id": "9a14c08f",
   "metadata": {},
   "outputs": [],
   "source": [
    "print('Selecting an air quality CSV...')\n",
    "aq_prefer = ['AQHI', 'aqhi', 'city_dashboard', 'realtime', 'time', 'smart', 'o3']\n",
    "if CFG.air_quality_dir.exists():\n",
    "    csvs = sorted(CFG.air_quality_dir.glob('*.csv'))\n",
    "else:\n",
    "    csvs = []\n",
    "choice = None\n",
    "for p in csvs:\n",
    "    if any(k in p.name.lower() for k in aq_prefer):\n",
    "        choice = p\n",
    "        break\n",
    "if choice is None:\n",
    "    choice = csvs[0] if csvs else None\n",
    "print('Found:', choice)\n",
    "air_df = safe_load_csv(choice, nrows=CFG.sample_rows)\n",
    "if validate_df(air_df):\n",
    "    summarize_and_plot(air_df, title='Air quality dataset')\n",
    "else:\n",
    "    print('No air quality data available; skipping plot.')"
   ]
  },
  {
   "cell_type": "markdown",
   "id": "0cf297dc",
   "metadata": {},
   "source": [
    "## 9) Visualize Results: Housing\n",
    "\n",
    "If no housing files exist yet, this section will skip gracefully."
   ]
  },
  {
   "cell_type": "code",
   "execution_count": null,
   "id": "81020b2e",
   "metadata": {},
   "outputs": [],
   "source": [
    "print('Selecting a housing CSV...')\n",
    "housing_csv = pick_csv(CFG.housing_dir)\n",
    "print('Found:' , housing_csv)\n",
    "housing_df = safe_load_csv(housing_csv, nrows=CFG.sample_rows)\n",
    "if validate_df(housing_df):\n",
    "    summarize_and_plot(housing_df, title='Housing dataset')\n",
    "else:\n",
    "    print('No housing data available; skipping plot.')"
   ]
  },
  {
   "cell_type": "markdown",
   "id": "632358fe",
   "metadata": {},
   "source": [
    "## 10) Save Artifacts and Clean Up\n",
    "\n",
    "Optionally save small summaries and close figures."
   ]
  },
  {
   "cell_type": "code",
   "execution_count": null,
   "id": "8ef08441",
   "metadata": {},
   "outputs": [],
   "source": [
    "out_dir = ROOT / '_open_data_inventory' / 'samples'\n",
    "out_dir.mkdir(parents=True, exist_ok=True)\n",
    "\n",
    "for name, df in [('transport', 'transport_df'), ('air_quality', 'air_df'), ('housing', 'housing_df')]:\n",
    "    try:\n",
    "        obj = globals().get(df)\n",
    "        if isinstance(obj, pd.DataFrame) and not obj.empty:\n",
    "            sample = obj.head(100)\n",
    "            fp = out_dir / f'{name}_sample.csv'\n",
    "            sample.to_csv(fp, index=False)\n",
    "            print(f'Saved sample: {fp}')\n",
    "    except Exception as e:\n",
    "        logging.warning('Could not save sample for %s: %s', name, e)\n",
    "\n",
    "plt.close('all')\n",
    "print('Done. Figures closed.')"
   ]
  }
 ],
 "metadata": {
  "language_info": {
   "name": "python"
  }
 },
 "nbformat": 4,
 "nbformat_minor": 5
}
